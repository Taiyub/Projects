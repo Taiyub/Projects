{
 "cells": [
  {
   "cell_type": "code",
   "execution_count": null,
   "metadata": {},
   "outputs": [],
   "source": [
    "# Prerequisite\n",
    "# Have MySQL installed on local server\n",
    "# Install MySQL Connector Python using pip\n",
    "# Establish MySQL database connection in Python\n",
    "# Have username and password you need to connect to MySQL\n",
    "# Create table name active_user_table where field names are date data type - date and active_user_count where data type - integer\n",
    "# Close the MySQL database connection\n",
    "\n",
    "\n",
    "import mysql.connector # Add into your program so you can use this module API to connect the MySQL database\n",
    "from mysql.connector import Error\n",
    "\n",
    "try: # Method to connect the MySQL database from python\n",
    "    connection = mysql.connector.connect(host='localhost',\n",
    "                                         database='Active_user_d',\n",
    "                                         user='Taiyub',\n",
    "                                         password='Taiyub@26')\n",
    "# Prepared a SQL Insert query to insert rows into a table specify the column names and their values\n",
    "# Using a parameteried query so we can pass python variables as a query parament in which placeholders (%s) used for parameters\n",
    "    mySql_insert_query = \"\"\"INSERT INTO Active_user_table (date, active_user_count) \n",
    "                           VALUES (%s, %s, %s, %s) \"\"\"\n",
    "\n",
    "    records_to_insert = [(2019-12-31, 31),\n",
    "                         (2019-12-31, 33)]\n",
    "# This method creates a new MySQLCursor object\n",
    "    cursor = connection.cursor() \n",
    "# cursor.executemany function used to insert multiple records into a table\n",
    "    cursor.executemany(mySql_insert_query, records_to_insert)\n",
    "    connection.commit()\n",
    "# cursor.rowcount used to find out how many rows affected\n",
    "    print(cursor.rowcount, \"Records inserted successfully into Active_user_table\")\n",
    "\n",
    "except mysql.connector.Error as error:\n",
    "    print(\"Failed to insert record into MySQL table {}\".format(error))\n",
    "    \n",
    "# Close cursor and connection objects once the insert completion is complete\n",
    "\n",
    "finally:\n",
    "    if (connection.is_connected()):\n",
    "        cursor.close()\n",
    "        connection.close()\n",
    "        print(\"MySQL connection is closed\")\n"
   ]
  }
 ],
 "metadata": {
  "kernelspec": {
   "display_name": "Python 3",
   "language": "python",
   "name": "python3"
  },
  "language_info": {
   "codemirror_mode": {
    "name": "ipython",
    "version": 3
   },
   "file_extension": ".py",
   "mimetype": "text/x-python",
   "name": "python",
   "nbconvert_exporter": "python",
   "pygments_lexer": "ipython3",
   "version": "3.7.4"
  }
 },
 "nbformat": 4,
 "nbformat_minor": 2
}
