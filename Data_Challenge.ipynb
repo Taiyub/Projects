{
 "cells": [
  {
   "cell_type": "code",
   "execution_count": 9,
   "metadata": {},
   "outputs": [
    {
     "name": "stdout",
     "output_type": "stream",
     "text": [
      "20191230 31\n",
      "20191231 33\n"
     ]
    }
   ],
   "source": [
    "import json\n",
    "from collections import defaultdict\n",
    "\n",
    "#-- conversion from seconds to milliseconds\n",
    "seconds = 0.001\n",
    "\n",
    "def engagement_time_msec_to_second_converter(): # create a function to convert msec to sec\n",
    "    \n",
    "            for stuff in data: # created a for loop for stuff in data to target the data array required\n",
    "                if stuff == 'event_params': # if stuff is equal to event params\n",
    "                       event_param_value = data[stuff] #store the entire list for event_params in event_param_value\n",
    "\n",
    "            for x in event_param_value: #lists containing dictionaries  \n",
    "                         \n",
    "                for key, value_v in x.items(): #looping through the keys and the values in the dictionaries, breaking dictionary down into key value pairs\n",
    "                      if value_v == 'engagement_time_msec': # the key is called key and if the value equals engagement_time_sec\n",
    "                        millisecond_value = int(x['value']['int_value']) # x is the dictionary int is converting into integer to get the value required, value is the key and int_value is the key\n",
    "                        second_value = millisecond_value * seconds # calculation to convert millsec to sec stored in second_value\n",
    "                        \n",
    "                        if second_value >= 3: # if the second_value is more than 3 implying an active user\n",
    "                            return second_value # return the second_value\n",
    "                        \n",
    "active_user_dict = defaultdict(list)    \n",
    "with open('bq-results-sample-data.json') as json_file: # open the json file and save it as json file\n",
    "    for info in json_file: # for loop created for everything called info in the j_son file\n",
    "        data = json.loads(info) # data is the variable that stores info which is everything in the file, json.loads used to load json string\n",
    "        for stuff in data: # another for loop created to target the data required in data called stuff\n",
    "            if stuff == \"event_date\" and engagement_time_msec_to_second_converter() != None: # if stuff = event_date and engagement_time_msec_to_second_converter does not equal none\n",
    "                active_user_dict[data[stuff]].append(engagement_time_msec_to_second_converter()) # create a default dict list containing the event date and add the engagement time converter function value\n",
    "                \n",
    "for key, value in active_user_dict.items(): # for loop to search every key value in the dictionary list created containing the event date and the second\n",
    "    print (key, len (value)) # display the key which is the event date and the number of element second values in the dictionary\n",
    "                 #print (data[stuff], engagement_time_msec_to_second_converter()) check how many active users > 3 secs per date displayed \n",
    "                    "
   ]
  },
  {
   "cell_type": "code",
   "execution_count": null,
   "metadata": {},
   "outputs": [],
   "source": []
  }
 ],
 "metadata": {
  "kernelspec": {
   "display_name": "Python 3",
   "language": "python",
   "name": "python3"
  },
  "language_info": {
   "codemirror_mode": {
    "name": "ipython",
    "version": 3
   },
   "file_extension": ".py",
   "mimetype": "text/x-python",
   "name": "python",
   "nbconvert_exporter": "python",
   "pygments_lexer": "ipython3",
   "version": "3.7.4"
  }
 },
 "nbformat": 4,
 "nbformat_minor": 2
}
